{
 "cells": [
  {
   "cell_type": "code",
   "execution_count": null,
   "metadata": {},
   "outputs": [],
   "source": [
    "import pandas as pd\n",
    "import xml.etree.ElementTree as ET"
   ]
  },
  {
   "cell_type": "markdown",
   "metadata": {},
   "source": [
    "## DrugBank drug status"
   ]
  },
  {
   "cell_type": "code",
   "execution_count": null,
   "metadata": {},
   "outputs": [],
   "source": [
    "# Parse DrugBank XML file.\n",
    "ns = '{http://www.drugbank.ca}'\n",
    "tree = ET.parse('../data/external/drugbank_517.xml')\n",
    "\n",
    "rows = [(drug.findtext(ns + 'drugbank-id[@primary=\"true\"]'),\n",
    "         drug.findtext(ns + 'name'),\n",
    "         '|'.join([group.text for group in\n",
    "                   drug.findall(f'{ns}groups/{ns}group')]),\n",
    "         drug.findtext(f'{ns}calculated-properties/{ns}'\n",
    "                       f'property[{ns}kind=\"InChI\"]/{ns}value'))\n",
    "        for drug in tree.getroot()]\n",
    "\n",
    "drugbank = (pd.DataFrame(rows, columns=['drugbank_id', 'name', 'groups',\n",
    "                                        'inchi'])\n",
    "            .dropna(subset=['inchi']))"
   ]
  },
  {
   "cell_type": "markdown",
   "metadata": {},
   "source": [
    "## Match observed drugs"
   ]
  },
  {
   "cell_type": "code",
   "execution_count": null,
   "metadata": {},
   "outputs": [],
   "source": [
    "observed = (pd.read_csv('https://docs.google.com/spreadsheets/d/'\n",
    "                        '1S5cdfuA8S5bW_0LVjd1gPxCxtwdhV4EQLV85raHWs9s/'\n",
    "                        'export?format=csv', usecols=['INCHI'], squeeze=True)\n",
    "            .dropna().str.strip('\"\"'))"
   ]
  },
  {
   "cell_type": "code",
   "execution_count": null,
   "metadata": {},
   "outputs": [],
   "source": [
    "observed_status = pd.concat(\n",
    "    [drugbank[drugbank['inchi'] == inchi] for inchi in observed],\n",
    "    ignore_index=True).sort_values('drugbank_id').reset_index(drop=True)"
   ]
  },
  {
   "cell_type": "code",
   "execution_count": null,
   "metadata": {},
   "outputs": [],
   "source": [
    "observed_status.to_csv('drugbank.csv', index=False)"
   ]
  }
 ],
 "metadata": {
  "kernelspec": {
   "display_name": "Python 3",
   "language": "python",
   "name": "python3"
  },
  "language_info": {
   "codemirror_mode": {
    "name": "ipython",
    "version": 3
   },
   "file_extension": ".py",
   "mimetype": "text/x-python",
   "name": "python",
   "nbconvert_exporter": "python",
   "pygments_lexer": "ipython3",
   "version": "3.8.6"
  }
 },
 "nbformat": 4,
 "nbformat_minor": 4
}
